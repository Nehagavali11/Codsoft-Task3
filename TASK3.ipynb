{
 "cells": [
  {
   "cell_type": "code",
   "execution_count": 3,
   "id": "5c453582",
   "metadata": {},
   "outputs": [
    {
     "name": "stdout",
     "output_type": "stream",
     "text": [
      "Welcome to the Password Generator...!\n",
      "Enter the desired length of the password: 9\n",
      "Generated Password: /bV{]w@B;\n"
     ]
    }
   ],
   "source": [
    "import random\n",
    "import string\n",
    "\n",
    "def generate_password(length):\n",
    "    characters = string.ascii_letters + string.digits + string.punctuation\n",
    "    return ''.join(random.choice(characters) for _ in range(length))\n",
    "\n",
    "def main():\n",
    "    print(\"Welcome to the Password Generator...!\")\n",
    "    while True:\n",
    "        try:\n",
    "            length = int(input(\"Enter the desired length of the password: \"))\n",
    "            if length > 0:\n",
    "                break\n",
    "            else:\n",
    "                print(\"Please enter a positive integer.\")\n",
    "        except ValueError:\n",
    "            print(\"Invalid input. Please enter a valid integer.\")\n",
    "    password = generate_password(length)\n",
    "    print(f\"Generated Password: {password}\")\n",
    "\n",
    "if __name__ == \"__main__\":\n",
    "    main()\n"
   ]
  },
  {
   "cell_type": "code",
   "execution_count": null,
   "id": "9c2e381c",
   "metadata": {},
   "outputs": [],
   "source": []
  }
 ],
 "metadata": {
  "kernelspec": {
   "display_name": "Python 3 (ipykernel)",
   "language": "python",
   "name": "python3"
  },
  "language_info": {
   "codemirror_mode": {
    "name": "ipython",
    "version": 3
   },
   "file_extension": ".py",
   "mimetype": "text/x-python",
   "name": "python",
   "nbconvert_exporter": "python",
   "pygments_lexer": "ipython3",
   "version": "3.11.5"
  }
 },
 "nbformat": 4,
 "nbformat_minor": 5
}
